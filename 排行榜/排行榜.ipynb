{
 "cells": [
  {
   "cell_type": "code",
   "execution_count": 85,
   "metadata": {},
   "outputs": [],
   "source": [
    "import pandas as pd\n",
    "import os"
   ]
  },
  {
   "cell_type": "code",
   "execution_count": 86,
   "metadata": {},
   "outputs": [],
   "source": [
    "dir_path = 'Rank'\n",
    "csv_name = 'Rank'"
   ]
  },
  {
   "cell_type": "code",
   "execution_count": 87,
   "metadata": {},
   "outputs": [
    {
     "name": "stdout",
     "output_type": "stream",
     "text": [
      "Rank目錄已存在\n"
     ]
    }
   ],
   "source": [
    "##創資料夾\n",
    "def mkdir(path):\n",
    "    folder = os.path.exists(path)\n",
    "    #判斷結果\n",
    "    if not folder:\n",
    "        #如果不存在，則建立新目錄\n",
    "        os.makedirs(path)\n",
    "        print('-----建立成功-----')\n",
    "    else:\n",
    "        #如果目錄已存在，則不建立，提示目錄已存在\n",
    "        print(path+'目錄已存在')\n",
    "mkdir(dir_path)"
   ]
  },
  {
   "cell_type": "code",
   "execution_count": 88,
   "metadata": {},
   "outputs": [],
   "source": [
    "## 資料匯出\n",
    "def OutputCSV(df):\n",
    "    Result = dir_path + '/' + csv_name + '.csv'\n",
    "    df_SAMPLE = pd.DataFrame.from_dict(df)\n",
    "    df_SAMPLE.to_csv(Result, index=False)\n",
    "    print('成功產出'+ Result)"
   ]
  },
  {
   "cell_type": "code",
   "execution_count": 89,
   "metadata": {},
   "outputs": [],
   "source": [
    "def insert_df(name, buy_percentage, sell_trade_num, stop_loss, take_profit, profit):\n",
    "    path = dir_path + '/' + csv_name + '.csv'\n",
    "    try:\n",
    "        df = pd.read_csv(path)\n",
    "        temp=pd.DataFrame({'name':name,\n",
    "                  'buy_percentage':buy_percentage,\n",
    "                  'sell_trade_num':sell_trade_num,\n",
    "                  'stop_loss':stop_loss,\n",
    "                  'take_profit':take_profit,\n",
    "                  'profit':profit},\n",
    "                index=[0])\n",
    "        df=df.append(temp, ignore_index=True)\n",
    "        OutputCSV(df)\n",
    "    except OSError:\n",
    "        df = pd.DataFrame(columns=['name','buy_percentage','sell_trade_num','stop_loss','take_profit','profit'])\n",
    "        OutputCSV(df)\n",
    "        df = pd.read_csv(path)\n",
    "        temp=pd.DataFrame({'name':name,\n",
    "                  'buy_percentage':buy_percentage,\n",
    "                  'sell_trade_num':sell_trade_num,\n",
    "                  'stop_loss':stop_loss,\n",
    "                  'take_profit':take_profit,\n",
    "                  'profit':profit},\n",
    "                index=[0])\n",
    "        df=df.append(temp, ignore_index=True)\n",
    "        OutputCSV(df)"
   ]
  },
  {
   "cell_type": "code",
   "execution_count": 91,
   "metadata": {},
   "outputs": [
    {
     "name": "stdout",
     "output_type": "stream",
     "text": [
      "成功產出Rank/Rank.csv\n"
     ]
    }
   ],
   "source": [
    "name = '安安'\n",
    "buy_percentage = 10\n",
    "sell_trade_num = 'all'  # 'all' or N個trade\n",
    "stop_loss = 5  # (%)  不停損 math.inf\n",
    "take_profit = 10 # (%) 不停利 math.inf\n",
    "profit = 12\n",
    "insert_df(name, buy_percentage, sell_trade_num, stop_loss, take_profit, profit)"
   ]
  },
  {
   "cell_type": "code",
   "execution_count": null,
   "metadata": {},
   "outputs": [],
   "source": []
  },
  {
   "cell_type": "code",
   "execution_count": null,
   "metadata": {},
   "outputs": [],
   "source": []
  }
 ],
 "metadata": {
  "kernelspec": {
   "display_name": "Python 3",
   "language": "python",
   "name": "python3"
  },
  "language_info": {
   "codemirror_mode": {
    "name": "ipython",
    "version": 3
   },
   "file_extension": ".py",
   "mimetype": "text/x-python",
   "name": "python",
   "nbconvert_exporter": "python",
   "pygments_lexer": "ipython3",
   "version": "3.7.6"
  }
 },
 "nbformat": 4,
 "nbformat_minor": 4
}
